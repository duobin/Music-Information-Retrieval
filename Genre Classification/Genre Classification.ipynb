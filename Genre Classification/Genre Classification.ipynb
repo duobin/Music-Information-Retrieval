{
 "cells": [
  {
   "cell_type": "markdown",
   "id": "d60d872c",
   "metadata": {},
   "source": [
    "# Genre Classification "
   ]
  },
  {
   "cell_type": "code",
   "execution_count": 153,
   "id": "49c92c28",
   "metadata": {},
   "outputs": [],
   "source": [
    "import pandas as pd\n",
    "import numpy as np\n",
    "import matplotlib.pyplot as plt\n",
    "from sklearn.model_selection import train_test_split\n",
    "import matplotlib.pyplot as plt\n",
    "%matplotlib notebook\n",
    "from sklearn.model_selection import train_test_split\n",
    "import matplotlib.pyplot as plt\n",
    "from sklearn.preprocessing import MinMaxScaler\n",
    "from sklearn.ensemble import RandomForestClassifier\n",
    "%matplotlib inline\n",
    "from sklearn.tree import DecisionTreeClassifier\n",
    "from sklearn.neighbors import KNeighborsClassifier\n",
    "from sklearn.model_selection import GridSearchCV"
   ]
  },
  {
   "cell_type": "markdown",
   "id": "91e5deee",
   "metadata": {},
   "source": [
    "## Preprocessing data"
   ]
  },
  {
   "cell_type": "code",
   "execution_count": 154,
   "id": "e3fb1141",
   "metadata": {},
   "outputs": [
    {
     "data": {
      "text/html": [
       "<div>\n",
       "<style scoped>\n",
       "    .dataframe tbody tr th:only-of-type {\n",
       "        vertical-align: middle;\n",
       "    }\n",
       "\n",
       "    .dataframe tbody tr th {\n",
       "        vertical-align: top;\n",
       "    }\n",
       "\n",
       "    .dataframe thead th {\n",
       "        text-align: right;\n",
       "    }\n",
       "</style>\n",
       "<table border=\"1\" class=\"dataframe\">\n",
       "  <thead>\n",
       "    <tr style=\"text-align: right;\">\n",
       "      <th></th>\n",
       "      <th>filename</th>\n",
       "      <th>chroma_stft_mean</th>\n",
       "      <th>rms_mean</th>\n",
       "      <th>spectral_centroid_mean</th>\n",
       "      <th>spectral_bandwidth_mean</th>\n",
       "      <th>rolloff_mean</th>\n",
       "      <th>zero_crossing_rate_mean</th>\n",
       "      <th>tempo</th>\n",
       "      <th>mfcc1_mean</th>\n",
       "      <th>mfcc2_mean</th>\n",
       "      <th>...</th>\n",
       "      <th>mfcc12_mean</th>\n",
       "      <th>mfcc13_mean</th>\n",
       "      <th>mfcc14_mean</th>\n",
       "      <th>mfcc15_mean</th>\n",
       "      <th>mfcc16_mean</th>\n",
       "      <th>mfcc17_mean</th>\n",
       "      <th>mfcc18_mean</th>\n",
       "      <th>mfcc19_mean</th>\n",
       "      <th>mfcc20_mean</th>\n",
       "      <th>label</th>\n",
       "    </tr>\n",
       "  </thead>\n",
       "  <tbody>\n",
       "    <tr>\n",
       "      <th>0</th>\n",
       "      <td>blues.00000.wav</td>\n",
       "      <td>0.350088</td>\n",
       "      <td>0.130228</td>\n",
       "      <td>1784.165850</td>\n",
       "      <td>2002.449060</td>\n",
       "      <td>3805.839606</td>\n",
       "      <td>0.083045</td>\n",
       "      <td>123.046875</td>\n",
       "      <td>-113.570648</td>\n",
       "      <td>121.571793</td>\n",
       "      <td>...</td>\n",
       "      <td>8.803792</td>\n",
       "      <td>-3.672300</td>\n",
       "      <td>5.747995</td>\n",
       "      <td>-5.162882</td>\n",
       "      <td>0.752740</td>\n",
       "      <td>-1.690215</td>\n",
       "      <td>-0.408979</td>\n",
       "      <td>-2.303523</td>\n",
       "      <td>1.221291</td>\n",
       "      <td>blues</td>\n",
       "    </tr>\n",
       "    <tr>\n",
       "      <th>1</th>\n",
       "      <td>blues.00001.wav</td>\n",
       "      <td>0.340914</td>\n",
       "      <td>0.095948</td>\n",
       "      <td>1530.176679</td>\n",
       "      <td>2039.036516</td>\n",
       "      <td>3550.522098</td>\n",
       "      <td>0.056040</td>\n",
       "      <td>67.999589</td>\n",
       "      <td>-207.501694</td>\n",
       "      <td>123.991264</td>\n",
       "      <td>...</td>\n",
       "      <td>5.376327</td>\n",
       "      <td>-2.231760</td>\n",
       "      <td>4.220140</td>\n",
       "      <td>-6.012148</td>\n",
       "      <td>0.927998</td>\n",
       "      <td>-0.731125</td>\n",
       "      <td>0.295073</td>\n",
       "      <td>-0.283518</td>\n",
       "      <td>0.531217</td>\n",
       "      <td>blues</td>\n",
       "    </tr>\n",
       "    <tr>\n",
       "      <th>2</th>\n",
       "      <td>blues.00002.wav</td>\n",
       "      <td>0.363637</td>\n",
       "      <td>0.175570</td>\n",
       "      <td>1552.811865</td>\n",
       "      <td>1747.702312</td>\n",
       "      <td>3042.260232</td>\n",
       "      <td>0.076291</td>\n",
       "      <td>161.499023</td>\n",
       "      <td>-90.722595</td>\n",
       "      <td>140.446304</td>\n",
       "      <td>...</td>\n",
       "      <td>5.791199</td>\n",
       "      <td>-8.907628</td>\n",
       "      <td>-1.077000</td>\n",
       "      <td>-9.229274</td>\n",
       "      <td>2.451690</td>\n",
       "      <td>-7.729093</td>\n",
       "      <td>-1.816407</td>\n",
       "      <td>-3.439720</td>\n",
       "      <td>-2.231258</td>\n",
       "      <td>blues</td>\n",
       "    </tr>\n",
       "    <tr>\n",
       "      <th>3</th>\n",
       "      <td>blues.00003.wav</td>\n",
       "      <td>0.404785</td>\n",
       "      <td>0.141093</td>\n",
       "      <td>1070.106615</td>\n",
       "      <td>1596.412872</td>\n",
       "      <td>2184.745799</td>\n",
       "      <td>0.033309</td>\n",
       "      <td>63.024009</td>\n",
       "      <td>-199.544205</td>\n",
       "      <td>150.090897</td>\n",
       "      <td>...</td>\n",
       "      <td>6.079319</td>\n",
       "      <td>-2.480174</td>\n",
       "      <td>-1.079305</td>\n",
       "      <td>-2.870789</td>\n",
       "      <td>0.780874</td>\n",
       "      <td>-3.319597</td>\n",
       "      <td>0.636965</td>\n",
       "      <td>-0.619121</td>\n",
       "      <td>-3.407448</td>\n",
       "      <td>blues</td>\n",
       "    </tr>\n",
       "    <tr>\n",
       "      <th>4</th>\n",
       "      <td>blues.00004.wav</td>\n",
       "      <td>0.308526</td>\n",
       "      <td>0.091529</td>\n",
       "      <td>1835.004266</td>\n",
       "      <td>1748.172116</td>\n",
       "      <td>3579.757627</td>\n",
       "      <td>0.101461</td>\n",
       "      <td>135.999178</td>\n",
       "      <td>-160.337707</td>\n",
       "      <td>126.219635</td>\n",
       "      <td>...</td>\n",
       "      <td>-2.813867</td>\n",
       "      <td>-6.933385</td>\n",
       "      <td>-7.552725</td>\n",
       "      <td>-9.164666</td>\n",
       "      <td>-4.520576</td>\n",
       "      <td>-5.454034</td>\n",
       "      <td>-0.916874</td>\n",
       "      <td>-4.404827</td>\n",
       "      <td>-11.703234</td>\n",
       "      <td>blues</td>\n",
       "    </tr>\n",
       "  </tbody>\n",
       "</table>\n",
       "<p>5 rows × 29 columns</p>\n",
       "</div>"
      ],
      "text/plain": [
       "          filename  chroma_stft_mean  rms_mean  spectral_centroid_mean  \\\n",
       "0  blues.00000.wav          0.350088  0.130228             1784.165850   \n",
       "1  blues.00001.wav          0.340914  0.095948             1530.176679   \n",
       "2  blues.00002.wav          0.363637  0.175570             1552.811865   \n",
       "3  blues.00003.wav          0.404785  0.141093             1070.106615   \n",
       "4  blues.00004.wav          0.308526  0.091529             1835.004266   \n",
       "\n",
       "   spectral_bandwidth_mean  rolloff_mean  zero_crossing_rate_mean       tempo  \\\n",
       "0              2002.449060   3805.839606                 0.083045  123.046875   \n",
       "1              2039.036516   3550.522098                 0.056040   67.999589   \n",
       "2              1747.702312   3042.260232                 0.076291  161.499023   \n",
       "3              1596.412872   2184.745799                 0.033309   63.024009   \n",
       "4              1748.172116   3579.757627                 0.101461  135.999178   \n",
       "\n",
       "   mfcc1_mean  mfcc2_mean  ...  mfcc12_mean  mfcc13_mean  mfcc14_mean  \\\n",
       "0 -113.570648  121.571793  ...     8.803792    -3.672300     5.747995   \n",
       "1 -207.501694  123.991264  ...     5.376327    -2.231760     4.220140   \n",
       "2  -90.722595  140.446304  ...     5.791199    -8.907628    -1.077000   \n",
       "3 -199.544205  150.090897  ...     6.079319    -2.480174    -1.079305   \n",
       "4 -160.337707  126.219635  ...    -2.813867    -6.933385    -7.552725   \n",
       "\n",
       "   mfcc15_mean  mfcc16_mean  mfcc17_mean  mfcc18_mean  mfcc19_mean  \\\n",
       "0    -5.162882     0.752740    -1.690215    -0.408979    -2.303523   \n",
       "1    -6.012148     0.927998    -0.731125     0.295073    -0.283518   \n",
       "2    -9.229274     2.451690    -7.729093    -1.816407    -3.439720   \n",
       "3    -2.870789     0.780874    -3.319597     0.636965    -0.619121   \n",
       "4    -9.164666    -4.520576    -5.454034    -0.916874    -4.404827   \n",
       "\n",
       "   mfcc20_mean  label  \n",
       "0     1.221291  blues  \n",
       "1     0.531217  blues  \n",
       "2    -2.231258  blues  \n",
       "3    -3.407448  blues  \n",
       "4   -11.703234  blues  \n",
       "\n",
       "[5 rows x 29 columns]"
      ]
     },
     "execution_count": 154,
     "metadata": {},
     "output_type": "execute_result"
    }
   ],
   "source": [
    "# Load the dataset and print out first 5 lines of the dataset\n",
    "df = pd.read_csv('Data/features_30_sec.csv')\n",
    "df.head()"
   ]
  },
  {
   "cell_type": "code",
   "execution_count": 155,
   "id": "14aaabc8",
   "metadata": {},
   "outputs": [
    {
     "data": {
      "text/plain": [
       "Index(['filename', 'chroma_stft_mean', 'rms_mean', 'spectral_centroid_mean',\n",
       "       'spectral_bandwidth_mean', 'rolloff_mean', 'zero_crossing_rate_mean',\n",
       "       'tempo', 'mfcc1_mean', 'mfcc2_mean', 'mfcc3_mean', 'mfcc4_mean',\n",
       "       'mfcc5_mean', 'mfcc6_mean', 'mfcc7_mean', 'mfcc8_mean', 'mfcc9_mean',\n",
       "       'mfcc10_mean', 'mfcc11_mean', 'mfcc12_mean', 'mfcc13_mean',\n",
       "       'mfcc14_mean', 'mfcc15_mean', 'mfcc16_mean', 'mfcc17_mean',\n",
       "       'mfcc18_mean', 'mfcc19_mean', 'mfcc20_mean', 'label'],\n",
       "      dtype='object')"
      ]
     },
     "execution_count": 155,
     "metadata": {},
     "output_type": "execute_result"
    }
   ],
   "source": [
    "# Display the columns\n",
    "df.columns"
   ]
  },
  {
   "cell_type": "code",
   "execution_count": 156,
   "id": "0370e6af",
   "metadata": {},
   "outputs": [
    {
     "data": {
      "text/plain": [
       "classical    100\n",
       "disco        100\n",
       "jazz         100\n",
       "metal        100\n",
       "country      100\n",
       "rock         100\n",
       "hiphop       100\n",
       "blues        100\n",
       "reggae       100\n",
       "pop          100\n",
       "Name: label, dtype: int64"
      ]
     },
     "execution_count": 156,
     "metadata": {},
     "output_type": "execute_result"
    }
   ],
   "source": [
    "# Display the number of music each genre contains\n",
    "df.label.value_counts()"
   ]
  },
  {
   "cell_type": "code",
   "execution_count": 157,
   "id": "1be2f9f8",
   "metadata": {},
   "outputs": [
    {
     "name": "stdout",
     "output_type": "stream",
     "text": [
      "<class 'pandas.core.frame.DataFrame'>\n",
      "RangeIndex: 1000 entries, 0 to 999\n",
      "Data columns (total 29 columns):\n",
      " #   Column                   Non-Null Count  Dtype  \n",
      "---  ------                   --------------  -----  \n",
      " 0   filename                 1000 non-null   object \n",
      " 1   chroma_stft_mean         1000 non-null   float64\n",
      " 2   rms_mean                 1000 non-null   float64\n",
      " 3   spectral_centroid_mean   1000 non-null   float64\n",
      " 4   spectral_bandwidth_mean  1000 non-null   float64\n",
      " 5   rolloff_mean             1000 non-null   float64\n",
      " 6   zero_crossing_rate_mean  1000 non-null   float64\n",
      " 7   tempo                    1000 non-null   float64\n",
      " 8   mfcc1_mean               1000 non-null   float64\n",
      " 9   mfcc2_mean               1000 non-null   float64\n",
      " 10  mfcc3_mean               1000 non-null   float64\n",
      " 11  mfcc4_mean               1000 non-null   float64\n",
      " 12  mfcc5_mean               1000 non-null   float64\n",
      " 13  mfcc6_mean               1000 non-null   float64\n",
      " 14  mfcc7_mean               1000 non-null   float64\n",
      " 15  mfcc8_mean               1000 non-null   float64\n",
      " 16  mfcc9_mean               1000 non-null   float64\n",
      " 17  mfcc10_mean              1000 non-null   float64\n",
      " 18  mfcc11_mean              1000 non-null   float64\n",
      " 19  mfcc12_mean              1000 non-null   float64\n",
      " 20  mfcc13_mean              1000 non-null   float64\n",
      " 21  mfcc14_mean              1000 non-null   float64\n",
      " 22  mfcc15_mean              1000 non-null   float64\n",
      " 23  mfcc16_mean              1000 non-null   float64\n",
      " 24  mfcc17_mean              1000 non-null   float64\n",
      " 25  mfcc18_mean              1000 non-null   float64\n",
      " 26  mfcc19_mean              1000 non-null   float64\n",
      " 27  mfcc20_mean              1000 non-null   float64\n",
      " 28  label                    1000 non-null   object \n",
      "dtypes: float64(27), object(2)\n",
      "memory usage: 226.7+ KB\n"
     ]
    }
   ],
   "source": [
    "df.info()"
   ]
  },
  {
   "cell_type": "code",
   "execution_count": 158,
   "id": "7643e096",
   "metadata": {},
   "outputs": [
    {
     "data": {
      "text/plain": [
       "filename                   0\n",
       "chroma_stft_mean           0\n",
       "rms_mean                   0\n",
       "spectral_centroid_mean     0\n",
       "spectral_bandwidth_mean    0\n",
       "rolloff_mean               0\n",
       "zero_crossing_rate_mean    0\n",
       "tempo                      0\n",
       "mfcc1_mean                 0\n",
       "mfcc2_mean                 0\n",
       "mfcc3_mean                 0\n",
       "mfcc4_mean                 0\n",
       "mfcc5_mean                 0\n",
       "mfcc6_mean                 0\n",
       "mfcc7_mean                 0\n",
       "mfcc8_mean                 0\n",
       "mfcc9_mean                 0\n",
       "mfcc10_mean                0\n",
       "mfcc11_mean                0\n",
       "mfcc12_mean                0\n",
       "mfcc13_mean                0\n",
       "mfcc14_mean                0\n",
       "mfcc15_mean                0\n",
       "mfcc16_mean                0\n",
       "mfcc17_mean                0\n",
       "mfcc18_mean                0\n",
       "mfcc19_mean                0\n",
       "mfcc20_mean                0\n",
       "label                      0\n",
       "dtype: int64"
      ]
     },
     "execution_count": 158,
     "metadata": {},
     "output_type": "execute_result"
    }
   ],
   "source": [
    "# Check whether there is null value in the array\n",
    "df.isnull().sum()"
   ]
  },
  {
   "cell_type": "code",
   "execution_count": 159,
   "id": "efdb1f71",
   "metadata": {},
   "outputs": [],
   "source": [
    "name = df['label'].unique()"
   ]
  },
  {
   "cell_type": "code",
   "execution_count": 160,
   "id": "7b1f787e",
   "metadata": {},
   "outputs": [
    {
     "data": {
      "text/plain": [
       "array(['blues', 'classical', 'country', 'disco', 'hiphop', 'jazz',\n",
       "       'metal', 'pop', 'reggae', 'rock'], dtype=object)"
      ]
     },
     "execution_count": 160,
     "metadata": {},
     "output_type": "execute_result"
    }
   ],
   "source": [
    "name "
   ]
  },
  {
   "cell_type": "code",
   "execution_count": 161,
   "id": "7ee847e0",
   "metadata": {},
   "outputs": [],
   "source": [
    "# Transform the genre type to integers\n",
    "df['label'] = df['label'].astype('category')\n",
    "df['label'] = df['label'].cat.codes"
   ]
  },
  {
   "cell_type": "code",
   "execution_count": 162,
   "id": "2cc1a80c",
   "metadata": {},
   "outputs": [
    {
     "data": {
      "text/plain": [
       "array([0, 1, 2, 3, 4, 5, 6, 7, 8, 9], dtype=int8)"
      ]
     },
     "execution_count": 162,
     "metadata": {},
     "output_type": "execute_result"
    }
   ],
   "source": [
    "df['label'].unique()"
   ]
  },
  {
   "cell_type": "code",
   "execution_count": 163,
   "id": "74093ea1",
   "metadata": {},
   "outputs": [
    {
     "data": {
      "text/plain": [
       "{0: 'blues',\n",
       " 1: 'classical',\n",
       " 2: 'country',\n",
       " 3: 'disco',\n",
       " 4: 'hiphop',\n",
       " 5: 'jazz',\n",
       " 6: 'metal',\n",
       " 7: 'pop',\n",
       " 8: 'reggae',\n",
       " 9: 'rock'}"
      ]
     },
     "execution_count": 163,
     "metadata": {},
     "output_type": "execute_result"
    }
   ],
   "source": [
    "lookup_genre_name = dict(zip(df.label.unique(), name))   \n",
    "lookup_genre_name"
   ]
  },
  {
   "cell_type": "code",
   "execution_count": 166,
   "id": "28d18349",
   "metadata": {},
   "outputs": [
    {
     "name": "stdout",
     "output_type": "stream",
     "text": [
      "29\n"
     ]
    }
   ],
   "source": [
    "print(len(cols))"
   ]
  },
  {
   "cell_type": "code",
   "execution_count": 167,
   "id": "28bf5cb8",
   "metadata": {},
   "outputs": [
    {
     "data": {
      "text/html": [
       "<div>\n",
       "<style scoped>\n",
       "    .dataframe tbody tr th:only-of-type {\n",
       "        vertical-align: middle;\n",
       "    }\n",
       "\n",
       "    .dataframe tbody tr th {\n",
       "        vertical-align: top;\n",
       "    }\n",
       "\n",
       "    .dataframe thead th {\n",
       "        text-align: right;\n",
       "    }\n",
       "</style>\n",
       "<table border=\"1\" class=\"dataframe\">\n",
       "  <thead>\n",
       "    <tr style=\"text-align: right;\">\n",
       "      <th></th>\n",
       "      <th>filename</th>\n",
       "      <th>chroma_stft_mean</th>\n",
       "      <th>rms_mean</th>\n",
       "      <th>spectral_centroid_mean</th>\n",
       "      <th>spectral_bandwidth_mean</th>\n",
       "      <th>rolloff_mean</th>\n",
       "      <th>zero_crossing_rate_mean</th>\n",
       "      <th>tempo</th>\n",
       "      <th>mfcc1_mean</th>\n",
       "      <th>mfcc2_mean</th>\n",
       "      <th>...</th>\n",
       "      <th>mfcc12_mean</th>\n",
       "      <th>mfcc13_mean</th>\n",
       "      <th>mfcc14_mean</th>\n",
       "      <th>mfcc15_mean</th>\n",
       "      <th>mfcc16_mean</th>\n",
       "      <th>mfcc17_mean</th>\n",
       "      <th>mfcc18_mean</th>\n",
       "      <th>mfcc19_mean</th>\n",
       "      <th>mfcc20_mean</th>\n",
       "      <th>label</th>\n",
       "    </tr>\n",
       "  </thead>\n",
       "  <tbody>\n",
       "    <tr>\n",
       "      <th>0</th>\n",
       "      <td>blues.00000.wav</td>\n",
       "      <td>0.350088</td>\n",
       "      <td>0.130228</td>\n",
       "      <td>1784.165850</td>\n",
       "      <td>2002.449060</td>\n",
       "      <td>3805.839606</td>\n",
       "      <td>0.083045</td>\n",
       "      <td>123.046875</td>\n",
       "      <td>-113.570648</td>\n",
       "      <td>121.571793</td>\n",
       "      <td>...</td>\n",
       "      <td>8.803792</td>\n",
       "      <td>-3.672300</td>\n",
       "      <td>5.747995</td>\n",
       "      <td>-5.162882</td>\n",
       "      <td>0.752740</td>\n",
       "      <td>-1.690215</td>\n",
       "      <td>-0.408979</td>\n",
       "      <td>-2.303523</td>\n",
       "      <td>1.221291</td>\n",
       "      <td>0</td>\n",
       "    </tr>\n",
       "    <tr>\n",
       "      <th>1</th>\n",
       "      <td>blues.00001.wav</td>\n",
       "      <td>0.340914</td>\n",
       "      <td>0.095948</td>\n",
       "      <td>1530.176679</td>\n",
       "      <td>2039.036516</td>\n",
       "      <td>3550.522098</td>\n",
       "      <td>0.056040</td>\n",
       "      <td>67.999589</td>\n",
       "      <td>-207.501694</td>\n",
       "      <td>123.991264</td>\n",
       "      <td>...</td>\n",
       "      <td>5.376327</td>\n",
       "      <td>-2.231760</td>\n",
       "      <td>4.220140</td>\n",
       "      <td>-6.012148</td>\n",
       "      <td>0.927998</td>\n",
       "      <td>-0.731125</td>\n",
       "      <td>0.295073</td>\n",
       "      <td>-0.283518</td>\n",
       "      <td>0.531217</td>\n",
       "      <td>0</td>\n",
       "    </tr>\n",
       "    <tr>\n",
       "      <th>2</th>\n",
       "      <td>blues.00002.wav</td>\n",
       "      <td>0.363637</td>\n",
       "      <td>0.175570</td>\n",
       "      <td>1552.811865</td>\n",
       "      <td>1747.702312</td>\n",
       "      <td>3042.260232</td>\n",
       "      <td>0.076291</td>\n",
       "      <td>161.499023</td>\n",
       "      <td>-90.722595</td>\n",
       "      <td>140.446304</td>\n",
       "      <td>...</td>\n",
       "      <td>5.791199</td>\n",
       "      <td>-8.907628</td>\n",
       "      <td>-1.077000</td>\n",
       "      <td>-9.229274</td>\n",
       "      <td>2.451690</td>\n",
       "      <td>-7.729093</td>\n",
       "      <td>-1.816407</td>\n",
       "      <td>-3.439720</td>\n",
       "      <td>-2.231258</td>\n",
       "      <td>0</td>\n",
       "    </tr>\n",
       "    <tr>\n",
       "      <th>3</th>\n",
       "      <td>blues.00003.wav</td>\n",
       "      <td>0.404785</td>\n",
       "      <td>0.141093</td>\n",
       "      <td>1070.106615</td>\n",
       "      <td>1596.412872</td>\n",
       "      <td>2184.745799</td>\n",
       "      <td>0.033309</td>\n",
       "      <td>63.024009</td>\n",
       "      <td>-199.544205</td>\n",
       "      <td>150.090897</td>\n",
       "      <td>...</td>\n",
       "      <td>6.079319</td>\n",
       "      <td>-2.480174</td>\n",
       "      <td>-1.079305</td>\n",
       "      <td>-2.870789</td>\n",
       "      <td>0.780874</td>\n",
       "      <td>-3.319597</td>\n",
       "      <td>0.636965</td>\n",
       "      <td>-0.619121</td>\n",
       "      <td>-3.407448</td>\n",
       "      <td>0</td>\n",
       "    </tr>\n",
       "    <tr>\n",
       "      <th>4</th>\n",
       "      <td>blues.00004.wav</td>\n",
       "      <td>0.308526</td>\n",
       "      <td>0.091529</td>\n",
       "      <td>1835.004266</td>\n",
       "      <td>1748.172116</td>\n",
       "      <td>3579.757627</td>\n",
       "      <td>0.101461</td>\n",
       "      <td>135.999178</td>\n",
       "      <td>-160.337707</td>\n",
       "      <td>126.219635</td>\n",
       "      <td>...</td>\n",
       "      <td>-2.813867</td>\n",
       "      <td>-6.933385</td>\n",
       "      <td>-7.552725</td>\n",
       "      <td>-9.164666</td>\n",
       "      <td>-4.520576</td>\n",
       "      <td>-5.454034</td>\n",
       "      <td>-0.916874</td>\n",
       "      <td>-4.404827</td>\n",
       "      <td>-11.703234</td>\n",
       "      <td>0</td>\n",
       "    </tr>\n",
       "  </tbody>\n",
       "</table>\n",
       "<p>5 rows × 29 columns</p>\n",
       "</div>"
      ],
      "text/plain": [
       "          filename  chroma_stft_mean  rms_mean  spectral_centroid_mean  \\\n",
       "0  blues.00000.wav          0.350088  0.130228             1784.165850   \n",
       "1  blues.00001.wav          0.340914  0.095948             1530.176679   \n",
       "2  blues.00002.wav          0.363637  0.175570             1552.811865   \n",
       "3  blues.00003.wav          0.404785  0.141093             1070.106615   \n",
       "4  blues.00004.wav          0.308526  0.091529             1835.004266   \n",
       "\n",
       "   spectral_bandwidth_mean  rolloff_mean  zero_crossing_rate_mean       tempo  \\\n",
       "0              2002.449060   3805.839606                 0.083045  123.046875   \n",
       "1              2039.036516   3550.522098                 0.056040   67.999589   \n",
       "2              1747.702312   3042.260232                 0.076291  161.499023   \n",
       "3              1596.412872   2184.745799                 0.033309   63.024009   \n",
       "4              1748.172116   3579.757627                 0.101461  135.999178   \n",
       "\n",
       "   mfcc1_mean  mfcc2_mean  ...  mfcc12_mean  mfcc13_mean  mfcc14_mean  \\\n",
       "0 -113.570648  121.571793  ...     8.803792    -3.672300     5.747995   \n",
       "1 -207.501694  123.991264  ...     5.376327    -2.231760     4.220140   \n",
       "2  -90.722595  140.446304  ...     5.791199    -8.907628    -1.077000   \n",
       "3 -199.544205  150.090897  ...     6.079319    -2.480174    -1.079305   \n",
       "4 -160.337707  126.219635  ...    -2.813867    -6.933385    -7.552725   \n",
       "\n",
       "   mfcc15_mean  mfcc16_mean  mfcc17_mean  mfcc18_mean  mfcc19_mean  \\\n",
       "0    -5.162882     0.752740    -1.690215    -0.408979    -2.303523   \n",
       "1    -6.012148     0.927998    -0.731125     0.295073    -0.283518   \n",
       "2    -9.229274     2.451690    -7.729093    -1.816407    -3.439720   \n",
       "3    -2.870789     0.780874    -3.319597     0.636965    -0.619121   \n",
       "4    -9.164666    -4.520576    -5.454034    -0.916874    -4.404827   \n",
       "\n",
       "   mfcc20_mean  label  \n",
       "0     1.221291      0  \n",
       "1     0.531217      0  \n",
       "2    -2.231258      0  \n",
       "3    -3.407448      0  \n",
       "4   -11.703234      0  \n",
       "\n",
       "[5 rows x 29 columns]"
      ]
     },
     "execution_count": 167,
     "metadata": {},
     "output_type": "execute_result"
    }
   ],
   "source": [
    "df.head()"
   ]
  },
  {
   "cell_type": "code",
   "execution_count": 168,
   "id": "0e8efdcc",
   "metadata": {},
   "outputs": [],
   "source": [
    "X = df.iloc[:,1:28]\n",
    "y = df['label']"
   ]
  },
  {
   "cell_type": "code",
   "execution_count": 169,
   "id": "b84652d2",
   "metadata": {},
   "outputs": [],
   "source": [
    "# Splitting the dataset to training dataset and testing dataset\n",
    "# Scale the dataset\n",
    "scaler = MinMaxScaler()\n",
    "x= scaler.fit_transform(X)\n",
    "X_train_scaled, X_test_scaled, y_train, y_test = train_test_split(x, y, test_size=0.33, random_state=3)"
   ]
  },
  {
   "cell_type": "markdown",
   "id": "21182c2d",
   "metadata": {},
   "source": [
    "## Feature importance using Random Forest"
   ]
  },
  {
   "cell_type": "code",
   "execution_count": 170,
   "id": "eda12643",
   "metadata": {},
   "outputs": [
    {
     "data": {
      "image/png": "[encoded data removed]",
      "text/plain": [
       "<Figure size 432x288 with 1 Axes>"
      ]
     },
     "metadata": {
      "needs_background": "light"
     },
     "output_type": "display_data"
    }
   ],
   "source": [
    "# Ranking the feature through random forest classifier\n",
    "clf = RandomForestClassifier(random_state=10, n_jobs=-1).fit(X_train_scaled, y_train)\n",
    "importances = clf.feature_importances_\n",
    "indices = np.argsort(importances)[::-1]\n",
    "names = [X.columns.values[i] for i in indices]\n",
    "plt.figure()\n",
    "plt.title(\"Feature Importance\")\n",
    "plt.bar(range(X.shape[1]), importances[indices])\n",
    "plt.xticks(range(X.shape[1]), names, rotation=90)\n",
    "plt.show()"
   ]
  },
  {
   "cell_type": "code",
   "execution_count": 171,
   "id": "b915d83a",
   "metadata": {},
   "outputs": [
    {
     "data": {
      "text/plain": [
       "array([ 0,  1, 10,  7, 15,  3, 23, 12,  5,  4,  9, 14, 17,  2, 19, 13, 21,\n",
       "       22,  8, 18, 11, 25, 26,  6, 20, 24, 16])"
      ]
     },
     "execution_count": 171,
     "metadata": {},
     "output_type": "execute_result"
    }
   ],
   "source": [
    "indices"
   ]
  },
  {
   "cell_type": "markdown",
   "id": "d5bd5bc5",
   "metadata": {},
   "source": [
    "## Feature importance using Decision Tree"
   ]
  },
  {
   "cell_type": "code",
   "execution_count": 172,
   "id": "80da41d1",
   "metadata": {},
   "outputs": [
    {
     "data": {
      "image/png": "[encoded data removed]",
      "text/plain": [
       "<Figure size 432x288 with 1 Axes>"
      ]
     },
     "metadata": {
      "needs_background": "light"
     },
     "output_type": "display_data"
    }
   ],
   "source": [
    "# Ranking the feature through decision tree classifier\n",
    "clf = DecisionTreeClassifier(random_state=0).fit(X_train_scaled, y_train)\n",
    "importances = clf.feature_importances_\n",
    "indices = np.argsort(importances)[::-1]\n",
    "names = [X.columns.values[i] for i in indices]\n",
    "plt.figure()\n",
    "plt.title(\"Feature Importance\")\n",
    "plt.bar(range(X.shape[1]),importances[indices])\n",
    "plt.xticks(range(X.shape[1]), names, rotation=90)\n",
    "plt.show()"
   ]
  },
  {
   "cell_type": "markdown",
   "id": "1bf924cc",
   "metadata": {},
   "source": [
    "## KNN ALGORITHM"
   ]
  },
  {
   "cell_type": "code",
   "execution_count": 173,
   "id": "5e159ce9",
   "metadata": {},
   "outputs": [],
   "source": [
    "knn = KNeighborsClassifier()"
   ]
  },
  {
   "cell_type": "code",
   "execution_count": 174,
   "id": "3b7cbac5",
   "metadata": {},
   "outputs": [],
   "source": [
    "nei=[]\n",
    "for i in range (0,21):\n",
    "  nei.append(i)"
   ]
  },
  {
   "cell_type": "code",
   "execution_count": 175,
   "id": "09b339f3",
   "metadata": {},
   "outputs": [],
   "source": [
    "grid_params={'n_neighbors':nei, \n",
    "             'weights':['uniform','distance'],\n",
    "             'metric':['euclidean','manhattan']}"
   ]
  },
  {
   "cell_type": "code",
   "execution_count": 176,
   "id": "c5bbb68e",
   "metadata": {},
   "outputs": [],
   "source": [
    "gs_knn=GridSearchCV(knn,\n",
    "                grid_params,\n",
    "                verbose=1,\n",
    "                cv=5,\n",
    "                n_jobs=-1)\n"
   ]
  },
  {
   "cell_type": "code",
   "execution_count": 177,
   "id": "ac2fc714",
   "metadata": {},
   "outputs": [
    {
     "name": "stdout",
     "output_type": "stream",
     "text": [
      "Fitting 5 folds for each of 84 candidates, totalling 420 fits\n"
     ]
    }
   ],
   "source": [
    "gs_knn_final=gs_knn.fit(X_train_scaled, y_train)"
   ]
  },
  {
   "cell_type": "code",
   "execution_count": 178,
   "id": "5ba85af8",
   "metadata": {},
   "outputs": [
    {
     "data": {
      "text/plain": [
       "{'metric': 'manhattan', 'n_neighbors': 10, 'weights': 'distance'}"
      ]
     },
     "execution_count": 178,
     "metadata": {},
     "output_type": "execute_result"
    }
   ],
   "source": [
    "gs_knn_final.best_params_\n"
   ]
  },
  {
   "cell_type": "code",
   "execution_count": 179,
   "id": "a7ce4b07",
   "metadata": {},
   "outputs": [],
   "source": [
    "# The parameters of KNN classifier will be decided by the above result. \n",
    "knn_ = KNeighborsClassifier(n_neighbors=3,\n",
    "                           metric='manhattan',\n",
    "                           weights='distance')\n",
    "knnf=knn_.fit(X_train_scaled, y_train)\n",
    "knn_accuracy=knnf.score(X_test_scaled, y_test)"
   ]
  },
  {
   "cell_type": "code",
   "execution_count": 180,
   "id": "a6304f51",
   "metadata": {},
   "outputs": [],
   "source": [
    "y_pred = knnf.predict(X_test_scaled)"
   ]
  },
  {
   "cell_type": "code",
   "execution_count": 181,
   "id": "c273acc6",
   "metadata": {},
   "outputs": [
    {
     "name": "stdout",
     "output_type": "stream",
     "text": [
      "Accuracy (KNN) =  63.63636363636363 %\n"
     ]
    }
   ],
   "source": [
    "print(\"Accuracy (KNN) = \",knn_accuracy*100,\"%\")"
   ]
  },
  {
   "cell_type": "code",
   "execution_count": 182,
   "id": "e5c20973",
   "metadata": {},
   "outputs": [
    {
     "data": {
      "text/plain": [
       "array([0.53835313, 0.22507555, 0.49007467, 0.43636051, 0.47926517,\n",
       "       0.51461738, 0.4125    , 0.77178628, 0.46940279, 0.23189897,\n",
       "       0.70769004, 0.47370033, 0.77737974, 0.347598  , 0.70709923,\n",
       "       0.321479  , 0.88856069, 0.34404805, 0.65671408, 0.19198068,\n",
       "       0.38407827, 0.28222334, 0.96445684, 0.40995048, 0.59244098,\n",
       "       0.22991046, 0.48122673])"
      ]
     },
     "execution_count": 182,
     "metadata": {},
     "output_type": "execute_result"
    }
   ],
   "source": [
    "X_test_scaled[0]"
   ]
  },
  {
   "cell_type": "markdown",
   "id": "94b369ac",
   "metadata": {},
   "source": [
    "## Support Vector Machine"
   ]
  },
  {
   "cell_type": "code",
   "execution_count": 183,
   "id": "1086c315",
   "metadata": {},
   "outputs": [],
   "source": [
    "from sklearn.svm import SVC"
   ]
  },
  {
   "cell_type": "code",
   "execution_count": 184,
   "id": "0a46c38c",
   "metadata": {},
   "outputs": [],
   "source": [
    "svm=SVC()\n",
    "c=range(1,10)\n",
    "grid_params={'kernel':['linear','poly', 'rbf', 'sigmoid'],\n",
    "             'C':c,\n",
    "             'degree':[1,2,3,4,5],\n",
    "             'gamma':['scale','auto']}"
   ]
  },
  {
   "cell_type": "code",
   "execution_count": 185,
   "id": "5a1fd80f",
   "metadata": {},
   "outputs": [],
   "source": [
    "gs_svm=GridSearchCV(svm,\n",
    "                grid_params,\n",
    "                verbose=1,\n",
    "                cv=5,\n",
    "                n_jobs=-1)"
   ]
  },
  {
   "cell_type": "code",
   "execution_count": 186,
   "id": "03557f15",
   "metadata": {},
   "outputs": [
    {
     "name": "stdout",
     "output_type": "stream",
     "text": [
      "Fitting 5 folds for each of 360 candidates, totalling 1800 fits\n"
     ]
    }
   ],
   "source": [
    "gs_svm_final=gs_svm.fit(X_train_scaled, y_train)"
   ]
  },
  {
   "cell_type": "code",
   "execution_count": 187,
   "id": "373e86c2",
   "metadata": {},
   "outputs": [
    {
     "data": {
      "text/plain": [
       "{'C': 6, 'degree': 1, 'gamma': 'scale', 'kernel': 'rbf'}"
      ]
     },
     "execution_count": 187,
     "metadata": {},
     "output_type": "execute_result"
    }
   ],
   "source": [
    "gs_svm_final.best_params_"
   ]
  },
  {
   "cell_type": "code",
   "execution_count": 188,
   "id": "775f800a",
   "metadata": {},
   "outputs": [],
   "source": [
    "# The parameters of SVM will be decided by the above result. \n",
    "clf_ = SVC(kernel = 'rbf', C=7,degree=1,gamma='scale')\n",
    "clff=clf_.fit(X_train_scaled, y_train)\n",
    "svm_accuracy=clff.score(X_test_scaled, y_test)"
   ]
  },
  {
   "cell_type": "code",
   "execution_count": 189,
   "id": "7e6e0f44",
   "metadata": {},
   "outputs": [],
   "source": [
    "y_pred = clff.predict(X_test_scaled)"
   ]
  },
  {
   "cell_type": "code",
   "execution_count": 315,
   "id": "da26027f",
   "metadata": {},
   "outputs": [
    {
     "name": "stdout",
     "output_type": "stream",
     "text": [
      "Accuracy(SVM) =  72.12121212121212 %\n"
     ]
    }
   ],
   "source": [
    "print(\"Accuracy(SVM) = \",svm_accuracy * 100,\"%\")"
   ]
  },
  {
   "cell_type": "code",
   "execution_count": 316,
   "id": "5ce20dee",
   "metadata": {},
   "outputs": [
    {
     "name": "stdout",
     "output_type": "stream",
     "text": [
      "Requirement already satisfied: librosa in /Users/catherina/opt/anaconda3/lib/python3.8/site-packages (0.9.1)\n",
      "Requirement already satisfied: scikit-learn>=0.19.1 in /Users/catherina/opt/anaconda3/lib/python3.8/site-packages (from librosa) (0.24.1)\n",
      "Requirement already satisfied: decorator>=4.0.10 in /Users/catherina/opt/anaconda3/lib/python3.8/site-packages (from librosa) (5.0.6)\n",
      "Requirement already satisfied: audioread>=2.1.5 in /Users/catherina/opt/anaconda3/lib/python3.8/site-packages (from librosa) (2.1.9)\n",
      "Requirement already satisfied: numpy>=1.17.0 in /Users/catherina/opt/anaconda3/lib/python3.8/site-packages (from librosa) (1.20.1)\n",
      "Requirement already satisfied: numba>=0.45.1 in /Users/catherina/opt/anaconda3/lib/python3.8/site-packages (from librosa) (0.53.1)\n",
      "Requirement already satisfied: soundfile>=0.10.2 in /Users/catherina/opt/anaconda3/lib/python3.8/site-packages (from librosa) (0.10.3.post1)\n",
      "Requirement already satisfied: scipy>=1.2.0 in /Users/catherina/opt/anaconda3/lib/python3.8/site-packages (from librosa) (1.6.2)\n",
      "Requirement already satisfied: joblib>=0.14 in /Users/catherina/opt/anaconda3/lib/python3.8/site-packages (from librosa) (1.0.1)\n",
      "Requirement already satisfied: resampy>=0.2.2 in /Users/catherina/opt/anaconda3/lib/python3.8/site-packages (from librosa) (0.2.2)\n",
      "Requirement already satisfied: packaging>=20.0 in /Users/catherina/opt/anaconda3/lib/python3.8/site-packages (from librosa) (20.9)\n",
      "Requirement already satisfied: pooch>=1.0 in /Users/catherina/opt/anaconda3/lib/python3.8/site-packages (from librosa) (1.6.0)\n",
      "Requirement already satisfied: llvmlite<0.37,>=0.36.0rc1 in /Users/catherina/opt/anaconda3/lib/python3.8/site-packages (from numba>=0.45.1->librosa) (0.36.0)\n",
      "Requirement already satisfied: setuptools in /Users/catherina/opt/anaconda3/lib/python3.8/site-packages (from numba>=0.45.1->librosa) (52.0.0.post20210125)\n",
      "Requirement already satisfied: pyparsing>=2.0.2 in /Users/catherina/opt/anaconda3/lib/python3.8/site-packages (from packaging>=20.0->librosa) (2.4.7)\n",
      "Requirement already satisfied: requests>=2.19.0 in /Users/catherina/opt/anaconda3/lib/python3.8/site-packages (from pooch>=1.0->librosa) (2.25.1)\n",
      "Requirement already satisfied: appdirs>=1.3.0 in /Users/catherina/opt/anaconda3/lib/python3.8/site-packages (from pooch>=1.0->librosa) (1.4.4)\n",
      "Requirement already satisfied: chardet<5,>=3.0.2 in /Users/catherina/opt/anaconda3/lib/python3.8/site-packages (from requests>=2.19.0->pooch>=1.0->librosa) (4.0.0)\n",
      "Requirement already satisfied: urllib3<1.27,>=1.21.1 in /Users/catherina/opt/anaconda3/lib/python3.8/site-packages (from requests>=2.19.0->pooch>=1.0->librosa) (1.26.4)\n",
      "Requirement already satisfied: certifi>=2017.4.17 in /Users/catherina/opt/anaconda3/lib/python3.8/site-packages (from requests>=2.19.0->pooch>=1.0->librosa) (2020.12.5)\n",
      "Requirement already satisfied: idna<3,>=2.5 in /Users/catherina/opt/anaconda3/lib/python3.8/site-packages (from requests>=2.19.0->pooch>=1.0->librosa) (2.10)\n",
      "Requirement already satisfied: six>=1.3 in /Users/catherina/opt/anaconda3/lib/python3.8/site-packages (from resampy>=0.2.2->librosa) (1.15.0)\n",
      "Requirement already satisfied: threadpoolctl>=2.0.0 in /Users/catherina/opt/anaconda3/lib/python3.8/site-packages (from scikit-learn>=0.19.1->librosa) (2.1.0)\n",
      "Requirement already satisfied: cffi>=1.0 in /Users/catherina/opt/anaconda3/lib/python3.8/site-packages (from soundfile>=0.10.2->librosa) (1.14.5)\n",
      "Requirement already satisfied: pycparser in /Users/catherina/opt/anaconda3/lib/python3.8/site-packages (from cffi>=1.0->soundfile>=0.10.2->librosa) (2.20)\n"
     ]
    }
   ],
   "source": [
    "!pip install librosa\n",
    "import librosa"
   ]
  },
  {
   "cell_type": "code",
   "execution_count": 317,
   "id": "9ecd3cb9",
   "metadata": {},
   "outputs": [],
   "source": [
    "def testfile(filename):\n",
    "\n",
    "\n",
    "    y, sr = librosa.load(filename)\n",
    "    #fetching tempo\n",
    "\n",
    "    onset_env = librosa.onset.onset_strength(y, sr)\n",
    "    tempo = librosa.beat.tempo(onset_envelope=onset_env, sr=sr)\n",
    "\n",
    "    #fetching beats\n",
    "\n",
    "    y_harmonic, y_percussive = librosa.effects.hpss(y)\n",
    "    tempo, beat_frames = librosa.beat.beat_track(y=y_percussive,sr=sr)\n",
    "\n",
    "    #chroma_stft\n",
    "\n",
    "    chroma_stft = librosa.feature.chroma_stft(y=y, sr=sr)\n",
    "\n",
    "    #rmse\n",
    "\n",
    "    rmse = librosa.feature.rms(y=y)\n",
    "\n",
    "    #fetching spectral centroid\n",
    "\n",
    "    spec_centroid = librosa.feature.spectral_centroid(y, sr=sr)[0]\n",
    "\n",
    "    #spectral bandwidth\n",
    "\n",
    "    spec_bw = librosa.feature.spectral_bandwidth(y=y, sr=sr)\n",
    "\n",
    "    #fetching spectral rolloff\n",
    "\n",
    "    spec_rolloff = librosa.feature.spectral_rolloff(y+0.01, sr=sr)[0]\n",
    "\n",
    "    #zero crossing rate\n",
    "\n",
    "    zero_crossing = librosa.feature.zero_crossing_rate(y)\n",
    "\n",
    "    #mfcc\n",
    "\n",
    "    mfcc = librosa.feature.mfcc(y=y, sr=sr)\n",
    "\n",
    "    #metadata dictionary\n",
    "\n",
    "    metadata_dict = {'tempo':tempo,'chroma_stft':np.mean(chroma_stft),'rmse':np.mean(rmse),\n",
    "                     'spectral_centroid':np.mean(spec_centroid),'spectral_bandwidth':np.mean(spec_bw), \n",
    "                     'rolloff':np.mean(spec_rolloff), 'zero_crossing_rates':np.mean(zero_crossing)}\n",
    "\n",
    "    for i in range(1,21):\n",
    "        metadata_dict.update({'mfcc'+str(i):np.mean(mfcc[i-1])})\n",
    "\n",
    "    return list(metadata_dict.values())"
   ]
  },
  {
   "cell_type": "code",
   "execution_count": 344,
   "id": "d7539ca5",
   "metadata": {},
   "outputs": [],
   "source": [
    "file = [\"test1_h.wav\"]"
   ]
  },
  {
   "cell_type": "code",
   "execution_count": 345,
   "id": "f9a9286e",
   "metadata": {},
   "outputs": [],
   "source": [
    "a = []\n",
    "for i in file:\n",
    "    a.append(testfile(i))"
   ]
  },
  {
   "cell_type": "code",
   "execution_count": 346,
   "id": "6b85c169",
   "metadata": {},
   "outputs": [],
   "source": [
    "def vote_pred(data1):\n",
    "  \n",
    "    #Predicting Using KNN\n",
    "    genre_prediction = knnf.predict(data1)\n",
    "    pred_knn=genre_prediction[0]\n",
    "#     print(pred_knn)\n",
    "    #Predicting Using SVM\n",
    "    genre_prediction = clff.predict(data1)\n",
    "    pred_svm=genre_prediction[0]\n",
    "#     print(pred_svm)\n",
    "    vote=[0,0,0,0,0,0,0,0,0,0]\n",
    "    vote[pred_knn]=vote[pred_knn]+knn_accuracy\n",
    "    vote[pred_svm]=vote[pred_svm]+svm_accuracy\n",
    "#     print(vote)\n",
    "    max=0\n",
    "    for i in range (0,10):\n",
    "        if vote[i]>max:\n",
    "            max=i\n",
    "    return max"
   ]
  },
  {
   "cell_type": "code",
   "execution_count": 347,
   "id": "b4c8e2e4",
   "metadata": {},
   "outputs": [
    {
     "name": "stdout",
     "output_type": "stream",
     "text": [
      "hiphop\n"
     ]
    }
   ],
   "source": [
    "for i in a:\n",
    "    d1 =np.array(i)\n",
    "    data1 = scaler.transform([d1])\n",
    "    print(lookup_genre_name[vote_pred(data1)])"
   ]
  },
  {
   "cell_type": "code",
   "execution_count": null,
   "id": "2d4f83f9",
   "metadata": {},
   "outputs": [],
   "source": []
  },
  {
   "cell_type": "code",
   "execution_count": null,
   "id": "9c9a79ce",
   "metadata": {},
   "outputs": [],
   "source": []
  },
  {
   "cell_type": "code",
   "execution_count": null,
   "id": "27d79e7d",
   "metadata": {},
   "outputs": [],
   "source": []
  }
 ],
 "metadata": {
  "kernelspec": {
   "display_name": "Python 3",
   "language": "python",
   "name": "python3"
  },
  "language_info": {
   "codemirror_mode": {
    "name": "ipython",
    "version": 3
   },
   "file_extension": ".py",
   "mimetype": "text/x-python",
   "name": "python",
   "nbconvert_exporter": "python",
   "pygments_lexer": "ipython3",
   "version": "3.8.8"
  }
 },
 "nbformat": 4,
 "nbformat_minor": 5
}
